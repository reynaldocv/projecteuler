{
 "cells": [
  {
   "cell_type": "markdown",
   "metadata": {},
   "source": [
    "# Largest prime factor\n",
    "\n",
    "### Problem 3"
   ]
  },
  {
   "cell_type": "markdown",
   "metadata": {},
   "source": [
    "The prime factors of 13195 are 5, 7, 13 and 29.\n",
    "\n",
    "What is the largest prime factor of the number 600851475143 ?"
   ]
  },
  {
   "cell_type": "code",
   "execution_count": null,
   "metadata": {},
   "outputs": [],
   "source": [
    "class solution:\n",
    "    def solution0003(self, n):\n",
    "        ans = 1\n",
    "        while n % 2 == 0: \n",
    "            n //= 2\n",
    "            ans = 2\n",
    "\n",
    "        num = 3\n",
    "\n",
    "        while n > 1:\n",
    "            print\t\t\t\n",
    "            while n % num == 0: \n",
    "                n //= num\n",
    "                ans = num\n",
    "\n",
    "            num += 2\n",
    "\n",
    "        return ans \n",
    "\n",
    "sol = solution()\n",
    "print(sol.solution0003(600851475143))"
   ]
  },
  {
   "cell_type": "markdown",
   "metadata": {},
   "source": [
    "- answer: 6857"
   ]
  }
 ],
 "metadata": {
  "kernelspec": {
   "display_name": "Python 2",
   "language": "python",
   "name": "python2"
  },
  "language_info": {
   "codemirror_mode": {
    "name": "ipython",
    "version": 2
   },
   "file_extension": ".py",
   "mimetype": "text/x-python",
   "name": "python",
   "nbconvert_exporter": "python",
   "pygments_lexer": "ipython2",
   "version": "2.7.12"
  }
 },
 "nbformat": 4,
 "nbformat_minor": 2
}
