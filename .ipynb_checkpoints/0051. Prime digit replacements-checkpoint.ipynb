{
 "cells": [
  {
   "cell_type": "markdown",
   "metadata": {},
   "source": [
    "# Prime digit replacements\n",
    "### Problem 51"
   ]
  },
  {
   "cell_type": "markdown",
   "metadata": {},
   "source": [
    "<p>By replacing the 1<sup>st</sup> digit of the 2-digit number *3, it turns out that six of the nine possible values: 13, 23, 43, 53, 73, and 83, are all prime.</p>\n",
    "<p>By replacing the 3<sup>rd</sup> and 4<sup>th</sup> digits of 56**3 with the same digit, this 5-digit number is the first example having seven primes among the ten generated numbers, yielding the family: 56003, 56113, 56333, 56443, 56663, 56773, and 56993. Consequently 56003, being the first member of this family, is the smallest prime with this property.</p>\n",
    "<p>Find the smallest prime which, by replacing part of the number (not necessarily adjacent digits) with the same digit, is part of an eight prime value family.</p>"
   ]
  },
  {
   "cell_type": "code",
   "execution_count": null,
   "metadata": {},
   "outputs": [],
   "source": [
    "from collections import defaultdict\n",
    "\n",
    "class solution():\n",
    "    def solution0051(self, k):\n",
    "        def genKeys(num):\n",
    "            strNum = [char for char in str(num)]\n",
    "            n = len(strNum)\n",
    "            ans = []\n",
    "            for num in range(1, 2**n):\n",
    "                aux = num\n",
    "                var = \"\"\n",
    "                prev = None\n",
    "                for i in range(n):\n",
    "                    if aux & 1 == 1:\n",
    "                        prev = strNum[i] if prev == None else prev\n",
    "                        if prev != strNum[i]:\n",
    "                            break\n",
    "                        var += \"*\"\n",
    "                    else:\n",
    "                        var +=  strNum[i]\n",
    "                    aux >>= 1\n",
    "                if len(var) == n: \n",
    "                    ans.append(var)\n",
    "            \n",
    "            return ans\n",
    "                \n",
    "        def isPrime(num):\n",
    "            limit = int(num**.5) + 2\n",
    "            for prime in primes: \n",
    "                if prime <= limit: \n",
    "                    if num % prime == 0: \n",
    "                        return False\n",
    "            \n",
    "            return True\n",
    "\n",
    "        primes = [2, 3, 5, 7]\n",
    "        num = 11\n",
    "        seen = defaultdict(lambda: [])\n",
    "        while True: \n",
    "            if isPrime(num):\n",
    "                for key in genKeys(num):\n",
    "                    seen[key].append(num)\n",
    "                    if len(seen[key]) >= k:\n",
    "                        return min(seen[key])\n",
    "            \n",
    "                primes.append(num)\n",
    "\n",
    "            num += 2\n",
    "\n",
    "sol = solution()\n",
    "print(sol.solution0051(8))"
   ]
  },
  {
   "cell_type": "markdown",
   "metadata": {},
   "source": [
    " - answer: 121313 (it took 98.430173 seconds)"
   ]
  }
 ],
 "metadata": {
  "kernelspec": {
   "display_name": "Python 2",
   "language": "python",
   "name": "python2"
  },
  "language_info": {
   "codemirror_mode": {
    "name": "ipython",
    "version": 2
   },
   "file_extension": ".py",
   "mimetype": "text/x-python",
   "name": "python",
   "nbconvert_exporter": "python",
   "pygments_lexer": "ipython2",
   "version": "2.7.12"
  }
 },
 "nbformat": 4,
 "nbformat_minor": 2
}
