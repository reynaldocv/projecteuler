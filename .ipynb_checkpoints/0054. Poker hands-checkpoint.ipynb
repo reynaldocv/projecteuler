{
 "cells": [
  {
   "cell_type": "markdown",
   "metadata": {},
   "source": [
    "# Poker hands\n",
    "\n",
    "### Problem 54"
   ]
  },
  {
   "cell_type": "markdown",
   "metadata": {},
   "source": [
    "In the card game poker, a hand consists of five cards and are ranked, from lowest to highest, in the following way:\n",
    "\n",
    "    - High Card: Highest value card.\n",
    "    - One Pair: Two cards of the same value.\n",
    "    - Two Pairs: Two different pairs.\n",
    "    - Three of a Kind: Three cards of the same value.\n",
    "    - Straight: All cards are consecutive values.\n",
    "    - Flush: All cards of the same suit.\n",
    "    - Full House: Three of a kind and a pair.\n",
    "    - Four of a Kind: Four cards of the same value.\n",
    "    - Straight Flush: All cards are consecutive values of same suit.\n",
    "    - Royal Flush: Ten, Jack, Queen, King, Ace, in same suit.\n",
    "    \n",
    "The cards are valued in the order:\n",
    "    2, 3, 4, 5, 6, 7, 8, 9, 10, Jack, Queen, King, Ace.\n",
    "\n",
    "If two players have the same ranked hands then the rank made up of the highest value wins; for example, a pair of eights beats a pair of fives (see example 1 below). But if two ranks tie, for example, both players have a pair of queens, then highest cards in each hand are compared (see example 4 below); if the highest cards tie then the next highest cards are compared, and so on.\n",
    "\n",
    "The file, $poker.txt$, contains one-thousand random hands dealt to two players. Each line of the file contains ten cards (separated by a single space): the first five are Player 1's cards and the last five are Player 2's cards. You can assume that all hands are valid (no invalid characters or repeated cards), each player's hand is in no specific order, and in each hand there is a clear winner.\n",
    "\n",
    "How many hands does Player 1 win?\n",
    "\n"
   ]
  },
  {
   "cell_type": "code",
   "execution_count": null,
   "metadata": {},
   "outputs": [],
   "source": [
    "from collections import defaultdict\n",
    "\n",
    "class solution:\n",
    "    def solution0054(self):\n",
    "        def helper(arr): \n",
    "            numbers = defaultdict(lambda: 0)\n",
    "            types = defaultdict(lambda: 0)\n",
    "            for card in arr: \n",
    "                numbers[values[card[0]]] += 1\n",
    "                types[card[1]] += 1\n",
    "\n",
    "            if len(numbers) == 5:\n",
    "                if min(numbers.keys()) + 4 == max(numbers.keys()):\n",
    "                    if len(types) == 1: \n",
    "                        return (9,) + tuple(sorted(numbers.keys(), reverse = True))\n",
    "                    else: \n",
    "                        return (5,) + tuple(sorted(numbers.keys(), reverse = True))\n",
    "\n",
    "                elif sorted(numbers.keys()) == [2,3,4,5,14]:\n",
    "                    if len(types) == 1: \n",
    "                        return (9, 5, 4, 3, 2, 1)\n",
    "                    else: \n",
    "                        return (5, 5, 4, 3, 2, 1)\n",
    "\n",
    "                elif len(types) == 1: \n",
    "                    return (6,) + tuple(sorted(numbers.keys(), reverse = True))\t\t\n",
    "                else: \n",
    "                    return (1,) + tuple(sorted(numbers.keys(), reverse = True))\n",
    "\n",
    "            elif len(numbers) == 4: \n",
    "                return (2,) + tuple([key for key in numbers if numbers[key]== 2]*2) + tuple(sorted([key for key in numbers if numbers[key]== 1], reverse = True))\n",
    "            elif len(numbers) == 3:\n",
    "                if max(numbers.values()) == 3: \n",
    "                    return (4,) + tuple([key for key in numbers if numbers[key]== 3]*3) + tuple(sorted([key for key in numbers if numbers[key]== 1], reverse = True))\n",
    "                else:\n",
    "                    return (3,) + tuple(sorted([key for key in numbers if numbers[key]== 2]*2, reverse = True)) + tuple([key for key in numbers if numbers[key]== 1])\n",
    "            elif len(numbers) == 2: \n",
    "                if max(numbers.values()) == 4: \n",
    "                    return (8,) + tuple(sorted([key for key in numbers if numbers[key] == 4]*4)) + tuple(sorted([key for key in numbers if numbers[key] == 1]))\n",
    "                else: \n",
    "                    return (7,) + tuple(sorted([key for key in numbers if numbers[key] == 3]*3)) + tuple(sorted([key for key in numbers if numbers[key] == 2]*2))\n",
    "\n",
    "        ans = 0\n",
    "\n",
    "        values = {\"A\": 14, \"K\":13, \"Q\": 12, \"J\": 11, \"T\": 10}\n",
    "        for i in range(2, 10):\n",
    "            values[str(i)] = i\n",
    "\n",
    "        file = open(\"PE-txt/p054_poker.txt\")\t\t\n",
    "        for line in file:\n",
    "            line = line.replace(\"\\n\", \"\")\n",
    "            hands = line.split(\" \")\n",
    "\n",
    "            hand1 = hands[:5]\n",
    "            hand2 = hands[5:]\n",
    "\n",
    "            if helper(hand1) > helper(hand2):\t\t\t\t\n",
    "                ans +=1 \n",
    "\n",
    "        return ans\n",
    "\n",
    "sol = solution()\n",
    "print(sol.solution0054())\n"
   ]
  },
  {
   "cell_type": "markdown",
   "metadata": {},
   "source": [
    "- answer: 376"
   ]
  }
 ],
 "metadata": {
  "kernelspec": {
   "display_name": "Python 2",
   "language": "python",
   "name": "python2"
  },
  "language_info": {
   "codemirror_mode": {
    "name": "ipython",
    "version": 2
   },
   "file_extension": ".py",
   "mimetype": "text/x-python",
   "name": "python",
   "nbconvert_exporter": "python",
   "pygments_lexer": "ipython2",
   "version": "2.7.12"
  }
 },
 "nbformat": 4,
 "nbformat_minor": 2
}
