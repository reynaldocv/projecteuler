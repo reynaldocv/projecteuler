{
 "cells": [
  {
   "cell_type": "markdown",
   "metadata": {},
   "source": [
    "# Largest palindrome product\n",
    "### Problem 4"
   ]
  },
  {
   "cell_type": "markdown",
   "metadata": {},
   "source": [
    "<p>A palindromic number reads the same both ways. The largest palindrome made from the product of two 2-digit numbers is 9009 = 91 × 99.</p>\n",
    "<p>Find the largest palindrome made from the product of two 3-digit numbers.</p>"
   ]
  },
  {
   "cell_type": "code",
   "execution_count": null,
   "metadata": {},
   "outputs": [],
   "source": [
    "class solution:\n",
    "    def solution0004(self, n):\n",
    "        ans = 0 \n",
    "        limit = 10**(n - 1)\n",
    "        for numA in range(10**(n) - 1, 10**(n - 1), -1):\n",
    "            if numA < limit:\n",
    "                return ans\n",
    "            for numB in range(numA, 10**(n - 1), -1):\n",
    "                mul = numA*numB\n",
    "                if str(mul) == str(mul)[::-1]:\n",
    "                    ans = max(ans, mul)\n",
    "                    limit = numB\n",
    "                    break\n",
    "        return ans\n",
    "\n",
    "sol = solution()\n",
    "print(sol.solution0004(3))"
   ]
  },
  {
   "cell_type": "markdown",
   "metadata": {},
   "source": [
    " - answer: 906609"
   ]
  }
 ],
 "metadata": {
  "kernelspec": {
   "display_name": "Python 2",
   "language": "python",
   "name": "python2"
  },
  "language_info": {
   "codemirror_mode": {
    "name": "ipython",
    "version": 2
   },
   "file_extension": ".py",
   "mimetype": "text/x-python",
   "name": "python",
   "nbconvert_exporter": "python",
   "pygments_lexer": "ipython2",
   "version": "2.7.12"
  }
 },
 "nbformat": 4,
 "nbformat_minor": 2
}
