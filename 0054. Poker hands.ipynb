{
 "cells": [
  {
   "cell_type": "markdown",
   "metadata": {},
   "source": [
    "# Poker hands\n",
    "\n",
    "### Problem 54"
   ]
  },
  {
   "cell_type": "markdown",
   "metadata": {},
   "source": [
    "<p>In the card game poker, a hand consists of five cards and are ranked, from lowest to highest, in the following way:</p>\n",
    "<ul><li><b>High Card</b>: Highest value card.</li>\n",
    "<li><b>One Pair</b>: Two cards of the same value.</li>\n",
    "<li><b>Two Pairs</b>: Two different pairs.</li>\n",
    "<li><b>Three of a Kind</b>: Three cards of the same value.</li>\n",
    "<li><b>Straight</b>: All cards are consecutive values.</li>\n",
    "<li><b>Flush</b>: All cards of the same suit.</li>\n",
    "<li><b>Full House</b>: Three of a kind and a pair.</li>\n",
    "<li><b>Four of a Kind</b>: Four cards of the same value.</li>\n",
    "<li><b>Straight Flush</b>: All cards are consecutive values of same suit.</li>\n",
    "<li><b>Royal Flush</b>: Ten, Jack, Queen, King, Ace, in same suit.</li>\n",
    "</ul><p>The cards are valued in the order:<br />2, 3, 4, 5, 6, 7, 8, 9, 10, Jack, Queen, King, Ace.</p>\n",
    "<p>If two players have the same ranked hands then the rank made up of the highest value wins; for example, a pair of eights beats a pair of fives (see example 1 below). But if two ranks tie, for example, both players have a pair of queens, then highest cards in each hand are compared (see example 4 below); if the highest cards tie then the next highest cards are compared, and so on.</p>\n",
    "<p>Consider the following five hands dealt to two players:</p>\n",
    "<div class=\"center\">\n",
    "<table><tr><td><b>Hand</b></td><td> </td><td><b>Player 1</b></td><td> </td><td><b>Player 2</b></td><td> </td><td><b>Winner</b></td>\n",
    "</tr><tr><td><b>1</b></td><td> </td><td>5H 5C 6S 7S KD<br /><div class=\"smaller\">Pair of Fives</div></td><td> </td><td>2C 3S 8S 8D TD<br /><div class=\"smaller\">Pair of Eights</div></td><td> </td><td>Player 2</td>\n",
    "</tr><tr><td><b>2</b></td><td> </td><td>5D 8C 9S JS AC<br /><div class=\"smaller\">Highest card Ace</div></td><td> </td><td>2C 5C 7D 8S QH<br /><div class=\"smaller\">Highest card Queen</div></td><td> </td><td>Player 1</td>\n",
    "</tr><tr><td><b>3</b></td><td> </td><td>2D 9C AS AH AC<br /><div class=\"smaller\">Three Aces</div></td><td> </td><td>3D 6D 7D TD QD<br /><div class=\"smaller\">Flush  with Diamonds</div></td><td> </td><td>Player 2</td>\n",
    "</tr><tr><td><b>4</b></td><td> </td><td>4D 6S 9H QH QC<br /><div class=\"smaller\">Pair of Queens<br />Highest card Nine</div></td><td> </td><td>3D 6D 7H QD QS<br /><div class=\"smaller\">Pair of Queens<br />Highest card Seven</div></td><td> </td><td>Player 1</td>\n",
    "</tr><tr><td><b>5</b></td><td> </td><td>2H 2D 4C 4D 4S<br /><div class=\"smaller\">Full House<br />With Three Fours</div></td><td> </td><td>3C 3D 3S 9S 9D<br /><div class=\"smaller\">Full House<br />with Three Threes</div></td><td> </td><td>Player 1</td>\n",
    "</tr></table></div>\n",
    "<p>The file, <a href=\"project/resources/p054_poker.txt\">poker.txt</a>, contains one-thousand random hands dealt to two players. Each line of the file contains ten cards (separated by a single space): the first five are Player 1's cards and the last five are Player 2's cards. You can assume that all hands are valid (no invalid characters or repeated cards), each player's hand is in no specific order, and in each hand there is a clear winner.</p>\n",
    "<p>How many hands does Player 1 win?</p>\n",
    "\n"
   ]
  },
  {
   "cell_type": "code",
   "execution_count": null,
   "metadata": {},
   "outputs": [],
   "source": [
    "from collections import defaultdict\n",
    "\n",
    "class solution:\n",
    "    def solution0054(self):\n",
    "        def helper(arr): \n",
    "            numbers = defaultdict(lambda: 0)\n",
    "            types = defaultdict(lambda: 0)\n",
    "            for card in arr: \n",
    "                numbers[values[card[0]]] += 1\n",
    "                types[card[1]] += 1\n",
    "\n",
    "            if len(numbers) == 5:\n",
    "                if min(numbers.keys()) + 4 == max(numbers.keys()):\n",
    "                    if len(types) == 1: \n",
    "                        ans = (9,) + tuple(sorted(numbers.keys(), reverse = True))\n",
    "                    else: \n",
    "                        ans = (5,) + tuple(sorted(numbers.keys(), reverse = True))\n",
    "\n",
    "                elif len(types) == 1: \n",
    "                    ans = (6,) + tuple(sorted(numbers.keys(), reverse = True))\t\t\n",
    "                else: \n",
    "                    ans = (1,) + tuple(sorted(numbers.keys(), reverse = True))\n",
    "\n",
    "            elif len(numbers) == 4: \n",
    "                ans =  (2,) + tuple([key for key in numbers if numbers[key]== 2]*2) \n",
    "                ans += tuple(sorted([key for key in numbers if numbers[key]== 1], reverse = True))\n",
    "\n",
    "            elif len(numbers) == 3:\n",
    "                if max(numbers.values()) == 3: \n",
    "                    ans = (4,) + tuple([key for key in numbers if numbers[key]== 3]*3) \n",
    "                    ans += tuple(sorted([key for key in numbers if numbers[key]== 1], reverse = True))\n",
    "\n",
    "                else:\n",
    "                    ans = (3,) + tuple(sorted([key for key in numbers if numbers[key]== 2]*2, reverse = True)) \n",
    "                    ans += tuple([key for key in numbers if numbers[key]== 1])\n",
    "\n",
    "            elif len(numbers) == 2: \n",
    "                if max(numbers.values()) == 4: \n",
    "                    ans = (8,) + tuple(sorted([key for key in numbers if numbers[key] == 4]*4)) \n",
    "                    ans += tuple(sorted([key for key in numbers if numbers[key] == 1]))\n",
    "                else: \n",
    "                    ans = (7,) + tuple(sorted([key for key in numbers if numbers[key] == 3]*3)) \n",
    "                    ans += tuple(sorted([key for key in numbers if numbers[key] == 2]*2))\n",
    "\n",
    "            return ans\n",
    "\n",
    "        ans = 0\n",
    "\n",
    "        values = {\"A\": 14, \"K\":13, \"Q\": 12, \"J\": 11, \"T\": 10}\n",
    "        for i in range(2, 10):\n",
    "            values[str(i)] = i\n",
    "\n",
    "        file = open(\"PE-txt/p054_poker.txt\")\t\t\n",
    "        for line in file:\n",
    "            line = line.replace(\"\\n\", \"\")\n",
    "            hands = line.split(\" \")\n",
    "\n",
    "            hand1 = hands[:5]\n",
    "            hand2 = hands[5:]\n",
    "\n",
    "            if helper(hand1) > helper(hand2):\t\t\t\t\n",
    "                ans +=1 \n",
    "\n",
    "        return ans\n",
    "\n",
    "sol = solution()\n",
    "print(sol.solution0054())\n"
   ]
  },
  {
   "cell_type": "markdown",
   "metadata": {},
   "source": [
    "- answer: 376"
   ]
  }
 ],
 "metadata": {
  "kernelspec": {
   "display_name": "Python 2",
   "language": "python",
   "name": "python2"
  },
  "language_info": {
   "codemirror_mode": {
    "name": "ipython",
    "version": 2
   },
   "file_extension": ".py",
   "mimetype": "text/x-python",
   "name": "python",
   "nbconvert_exporter": "python",
   "pygments_lexer": "ipython2",
   "version": "2.7.12"
  }
 },
 "nbformat": 4,
 "nbformat_minor": 2
}
