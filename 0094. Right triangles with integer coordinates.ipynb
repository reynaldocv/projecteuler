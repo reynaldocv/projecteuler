{
 "cells": [
  {
   "cell_type": "markdown",
   "metadata": {},
   "source": [
    "# Right triangles with integer coordinates\n",
    "### Problem 94"
   ]
  },
  {
   "cell_type": "markdown",
   "metadata": {},
   "source": [
    "<p>The points P (<i>x</i><sub>1</sub>, <i>y</i><sub>1</sub>) and Q (<i>x</i><sub>2</sub>, <i>y</i><sub>2</sub>) are plotted at integer co-ordinates and are joined to the origin, O(0,0), to form ΔOPQ.</p>\n",
    "\n",
    "<div class=\"center\">\n",
    "<img src=\"figures/p091_1.png\" class=\"dark_img\" alt=\"\" /><br /></div>\n",
    "\n",
    "<p>There are exactly fourteen triangles containing a right angle that can be formed when each co-ordinate lies between 0 and 2 inclusive; that is,<br />0 ≤ <i>x</i><sub>1</sub>, <i>y</i><sub>1</sub>, <i>x</i><sub>2</sub>, <i>y</i><sub>2</sub> ≤ 2.</p>\n",
    "\n",
    "<div class=\"center\">\n",
    "<img src=\"figures/p091_2.png\" alt=\"\" /><br /></div>\n",
    "\n",
    "<p>Given that 0 ≤ <i>x</i><sub>1</sub>, <i>y</i><sub>1</sub>, <i>x</i><sub>2</sub>, <i>y</i><sub>2</sub> ≤ 50, how many right triangles can be formed?</p>\n"
   ]
  },
  {
   "cell_type": "code",
   "execution_count": null,
   "metadata": {},
   "outputs": [],
   "source": [
    "from math import gcd\n",
    "\n",
    "class solution: \n",
    "    def solution0091(self, n):\n",
    "        ans = 3*n**2\n",
    "\n",
    "        for i in range(1, n + 1):\n",
    "            for j in range(1, n + 1):\n",
    "                times = 1\n",
    "                fator = gcd(i, j)\n",
    "                while 0 <= i + times*(j//fator) <= n and 0 <= j - times*(i//fator) <= n:\n",
    "                    ans += 1\n",
    "                    times += 1\n",
    "\n",
    "                times = 1\n",
    "                while 0 <= i - times*(j//fator) <= n and 0 <= j + times*(i//fator) <= n:\n",
    "                    ans += 1\n",
    "                    times += 1\n",
    "\n",
    "        return ans\n",
    " \n",
    "sol = solution()\n",
    "print(sol.solution0091(50)) "
   ]
  },
  {
   "cell_type": "markdown",
   "metadata": {},
   "source": [
    " - answer: 14234"
   ]
  }
 ],
 "metadata": {
  "kernelspec": {
   "display_name": "Python 2",
   "language": "python",
   "name": "python2"
  },
  "language_info": {
   "codemirror_mode": {
    "name": "ipython",
    "version": 2
   },
   "file_extension": ".py",
   "mimetype": "text/x-python",
   "name": "python",
   "nbconvert_exporter": "python",
   "pygments_lexer": "ipython2",
   "version": "2.7.12"
  }
 },
 "nbformat": 4,
 "nbformat_minor": 2
}
