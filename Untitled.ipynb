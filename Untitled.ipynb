{
 "cells": [
  {
   "cell_type": "code",
   "execution_count": 2,
   "metadata": {},
   "outputs": [
    {
     "name": "stdout",
     "output_type": "stream",
     "text": [
      "4613732\n"
     ]
    }
   ],
   "source": [
    "from functools import cache\n",
    "\n",
    "class solution: \n",
    "    def solution0002(self, n):\n",
    "        @cache\n",
    "        def fibonacci(x):\n",
    "            if x <= 1: \n",
    "                return 1\n",
    "            else: \n",
    "                return fibonacci(x - 2) + fibonacci(x - 1)\n",
    "\n",
    "        ans = 0\n",
    "        ith = 1\n",
    "        while fibonacci(ith) < n: \n",
    "            if fibonacci(ith) % 2 == 0: \n",
    "                ans += fibonacci(ith)\n",
    "            ith += 1\n",
    "\n",
    "        return ans\n",
    "\n",
    "sol = solution()\n",
    "print(sol.solution0002(4*10**6))\n"
   ]
  }
 ],
 "metadata": {
  "kernelspec": {
   "display_name": "Python 2",
   "language": "python",
   "name": "python2"
  },
  "language_info": {
   "codemirror_mode": {
    "name": "ipython",
    "version": 2
   },
   "file_extension": ".py",
   "mimetype": "text/x-python",
   "name": "python",
   "nbconvert_exporter": "python",
   "pygments_lexer": "ipython2",
   "version": "2.7.12"
  }
 },
 "nbformat": 4,
 "nbformat_minor": 2
}
